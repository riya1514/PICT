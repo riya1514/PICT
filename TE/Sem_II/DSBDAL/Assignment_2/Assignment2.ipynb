{
 "cells": [
  {
   "cell_type": "markdown",
   "id": "e16ec269-aa16-4885-aadd-fcd7ea488de6",
   "metadata": {},
   "source": [
    "Title : Data Wrangling II\n",
    "\n",
    "Createan“Academicperformance”datasetofstudentsand\n",
    " perform the following operations using Python. \n",
    "1. Scan all variables for missing values and inconsistencies. If \n",
    "there are missing values and/or inconsistencies, use any of \n",
    "the suitable techniques to deal with them. \n",
    "2. Scan all numeric variables for outliers. If there are outliers, \n",
    "use any of the suitable techniques to deal with them. \n",
    "3. Apply data transformations on at least one of the variables. \n",
    "The purpose of this transformation should be one of the \n",
    "following reasons: to change the scale for better \n",
    "understanding of the variable, to convert a non-linear relation \n",
    "into a linear one, or to decrease the skewness and convert the \n",
    "distribution into a normal distribution. \n",
    "Reason and document your approach properly."
   ]
  },
  {
   "cell_type": "code",
   "execution_count": 1,
   "id": "27ba88b8-7128-4d58-b95f-9b813add6be4",
   "metadata": {},
   "outputs": [],
   "source": [
    "# Importing libraries\n",
    "import numpy as np\n",
    "import pandas as pd"
   ]
  },
  {
   "cell_type": "code",
   "execution_count": 2,
   "id": "1c51432a-4b01-4574-b24e-ec411e4a8538",
   "metadata": {},
   "outputs": [],
   "source": [
    "# Load the dataset\n",
    "students=pd.read_csv(\"StudentsPerformance.csv\")"
   ]
  },
  {
   "cell_type": "code",
   "execution_count": 3,
   "id": "218da7aa-bc35-406f-9087-0232a35b3a8d",
   "metadata": {},
   "outputs": [
    {
     "data": {
      "text/html": [
       "<div>\n",
       "<style scoped>\n",
       "    .dataframe tbody tr th:only-of-type {\n",
       "        vertical-align: middle;\n",
       "    }\n",
       "\n",
       "    .dataframe tbody tr th {\n",
       "        vertical-align: top;\n",
       "    }\n",
       "\n",
       "    .dataframe thead th {\n",
       "        text-align: right;\n",
       "    }\n",
       "</style>\n",
       "<table border=\"1\" class=\"dataframe\">\n",
       "  <thead>\n",
       "    <tr style=\"text-align: right;\">\n",
       "      <th></th>\n",
       "      <th>gender</th>\n",
       "      <th>race/ethnicity</th>\n",
       "      <th>parental level of education</th>\n",
       "      <th>lunch</th>\n",
       "      <th>test preparation course</th>\n",
       "      <th>math score</th>\n",
       "      <th>reading score</th>\n",
       "      <th>writing score</th>\n",
       "    </tr>\n",
       "  </thead>\n",
       "  <tbody>\n",
       "    <tr>\n",
       "      <th>0</th>\n",
       "      <td>female</td>\n",
       "      <td>group B</td>\n",
       "      <td>bachelor's degree</td>\n",
       "      <td>standard</td>\n",
       "      <td>none</td>\n",
       "      <td>72</td>\n",
       "      <td>72</td>\n",
       "      <td>74</td>\n",
       "    </tr>\n",
       "    <tr>\n",
       "      <th>1</th>\n",
       "      <td>female</td>\n",
       "      <td>group C</td>\n",
       "      <td>some college</td>\n",
       "      <td>standard</td>\n",
       "      <td>completed</td>\n",
       "      <td>69</td>\n",
       "      <td>90</td>\n",
       "      <td>88</td>\n",
       "    </tr>\n",
       "    <tr>\n",
       "      <th>2</th>\n",
       "      <td>female</td>\n",
       "      <td>group B</td>\n",
       "      <td>master's degree</td>\n",
       "      <td>standard</td>\n",
       "      <td>none</td>\n",
       "      <td>90</td>\n",
       "      <td>95</td>\n",
       "      <td>93</td>\n",
       "    </tr>\n",
       "    <tr>\n",
       "      <th>3</th>\n",
       "      <td>male</td>\n",
       "      <td>group A</td>\n",
       "      <td>associate's degree</td>\n",
       "      <td>free/reduced</td>\n",
       "      <td>none</td>\n",
       "      <td>47</td>\n",
       "      <td>57</td>\n",
       "      <td>44</td>\n",
       "    </tr>\n",
       "    <tr>\n",
       "      <th>4</th>\n",
       "      <td>male</td>\n",
       "      <td>group C</td>\n",
       "      <td>some college</td>\n",
       "      <td>standard</td>\n",
       "      <td>none</td>\n",
       "      <td>76</td>\n",
       "      <td>78</td>\n",
       "      <td>75</td>\n",
       "    </tr>\n",
       "  </tbody>\n",
       "</table>\n",
       "</div>"
      ],
      "text/plain": [
       "   gender race/ethnicity parental level of education         lunch  \\\n",
       "0  female        group B           bachelor's degree      standard   \n",
       "1  female        group C                some college      standard   \n",
       "2  female        group B             master's degree      standard   \n",
       "3    male        group A          associate's degree  free/reduced   \n",
       "4    male        group C                some college      standard   \n",
       "\n",
       "  test preparation course  math score  reading score  writing score  \n",
       "0                    none          72             72             74  \n",
       "1               completed          69             90             88  \n",
       "2                    none          90             95             93  \n",
       "3                    none          47             57             44  \n",
       "4                    none          76             78             75  "
      ]
     },
     "execution_count": 3,
     "metadata": {},
     "output_type": "execute_result"
    }
   ],
   "source": [
    "# Get head datas\n",
    "students.head()"
   ]
  },
  {
   "cell_type": "code",
   "execution_count": 4,
   "id": "0e2c85db-802e-4703-b85f-787e17c8a4da",
   "metadata": {},
   "outputs": [
    {
     "data": {
      "text/plain": [
       "(1000, 8)"
      ]
     },
     "execution_count": 4,
     "metadata": {},
     "output_type": "execute_result"
    }
   ],
   "source": [
    "# Shape = no of rows, no of columns\n",
    "students.shape"
   ]
  },
  {
   "cell_type": "code",
   "execution_count": 5,
   "id": "ccaee516-3053-4966-998b-3a87a6e8c6fd",
   "metadata": {},
   "outputs": [
    {
     "data": {
      "text/html": [
       "<div>\n",
       "<style scoped>\n",
       "    .dataframe tbody tr th:only-of-type {\n",
       "        vertical-align: middle;\n",
       "    }\n",
       "\n",
       "    .dataframe tbody tr th {\n",
       "        vertical-align: top;\n",
       "    }\n",
       "\n",
       "    .dataframe thead th {\n",
       "        text-align: right;\n",
       "    }\n",
       "</style>\n",
       "<table border=\"1\" class=\"dataframe\">\n",
       "  <thead>\n",
       "    <tr style=\"text-align: right;\">\n",
       "      <th></th>\n",
       "      <th>math score</th>\n",
       "      <th>reading score</th>\n",
       "      <th>writing score</th>\n",
       "    </tr>\n",
       "  </thead>\n",
       "  <tbody>\n",
       "    <tr>\n",
       "      <th>count</th>\n",
       "      <td>1000.00000</td>\n",
       "      <td>1000.000000</td>\n",
       "      <td>1000.000000</td>\n",
       "    </tr>\n",
       "    <tr>\n",
       "      <th>mean</th>\n",
       "      <td>66.08900</td>\n",
       "      <td>69.169000</td>\n",
       "      <td>68.054000</td>\n",
       "    </tr>\n",
       "    <tr>\n",
       "      <th>std</th>\n",
       "      <td>15.16308</td>\n",
       "      <td>14.600192</td>\n",
       "      <td>15.195657</td>\n",
       "    </tr>\n",
       "    <tr>\n",
       "      <th>min</th>\n",
       "      <td>0.00000</td>\n",
       "      <td>17.000000</td>\n",
       "      <td>10.000000</td>\n",
       "    </tr>\n",
       "    <tr>\n",
       "      <th>25%</th>\n",
       "      <td>57.00000</td>\n",
       "      <td>59.000000</td>\n",
       "      <td>57.750000</td>\n",
       "    </tr>\n",
       "    <tr>\n",
       "      <th>50%</th>\n",
       "      <td>66.00000</td>\n",
       "      <td>70.000000</td>\n",
       "      <td>69.000000</td>\n",
       "    </tr>\n",
       "    <tr>\n",
       "      <th>75%</th>\n",
       "      <td>77.00000</td>\n",
       "      <td>79.000000</td>\n",
       "      <td>79.000000</td>\n",
       "    </tr>\n",
       "    <tr>\n",
       "      <th>max</th>\n",
       "      <td>100.00000</td>\n",
       "      <td>100.000000</td>\n",
       "      <td>100.000000</td>\n",
       "    </tr>\n",
       "  </tbody>\n",
       "</table>\n",
       "</div>"
      ],
      "text/plain": [
       "       math score  reading score  writing score\n",
       "count  1000.00000    1000.000000    1000.000000\n",
       "mean     66.08900      69.169000      68.054000\n",
       "std      15.16308      14.600192      15.195657\n",
       "min       0.00000      17.000000      10.000000\n",
       "25%      57.00000      59.000000      57.750000\n",
       "50%      66.00000      70.000000      69.000000\n",
       "75%      77.00000      79.000000      79.000000\n",
       "max     100.00000     100.000000     100.000000"
      ]
     },
     "execution_count": 5,
     "metadata": {},
     "output_type": "execute_result"
    }
   ],
   "source": [
    "# Summary\n",
    "students.describe()"
   ]
  },
  {
   "cell_type": "code",
   "execution_count": 6,
   "id": "17c92739-978e-4d11-b7f7-b581b36a68fe",
   "metadata": {},
   "outputs": [
    {
     "name": "stdout",
     "output_type": "stream",
     "text": [
      "<class 'pandas.core.frame.DataFrame'>\n",
      "RangeIndex: 1000 entries, 0 to 999\n",
      "Data columns (total 8 columns):\n",
      " #   Column                       Non-Null Count  Dtype \n",
      "---  ------                       --------------  ----- \n",
      " 0   gender                       1000 non-null   object\n",
      " 1   race/ethnicity               1000 non-null   object\n",
      " 2   parental level of education  1000 non-null   object\n",
      " 3   lunch                        1000 non-null   object\n",
      " 4   test preparation course      1000 non-null   object\n",
      " 5   math score                   1000 non-null   int64 \n",
      " 6   reading score                1000 non-null   int64 \n",
      " 7   writing score                1000 non-null   int64 \n",
      "dtypes: int64(3), object(5)\n",
      "memory usage: 62.6+ KB\n"
     ]
    }
   ],
   "source": [
    "students.info()"
   ]
  },
  {
   "cell_type": "code",
   "execution_count": 7,
   "id": "5a6d000d-fcde-44d8-bf16-a600ea5af2ac",
   "metadata": {},
   "outputs": [
    {
     "data": {
      "text/plain": [
       "gender                         0\n",
       "race/ethnicity                 0\n",
       "parental level of education    0\n",
       "lunch                          0\n",
       "test preparation course        0\n",
       "math score                     0\n",
       "reading score                  0\n",
       "writing score                  0\n",
       "dtype: int64"
      ]
     },
     "execution_count": 7,
     "metadata": {},
     "output_type": "execute_result"
    }
   ],
   "source": [
    "# Count of null values\n",
    "students.isnull().sum()"
   ]
  },
  {
   "cell_type": "code",
   "execution_count": 8,
   "id": "0c940da9-8438-48f5-b3e0-95157c451877",
   "metadata": {},
   "outputs": [],
   "source": [
    "# Changing column names\n",
    "students=students.rename(columns={'math score':'DSBDAL','reading score':'LP2','writing score':'WTL'})"
   ]
  },
  {
   "cell_type": "code",
   "execution_count": 12,
   "id": "69f111fc-1215-4507-b13f-1505d52f609c",
   "metadata": {},
   "outputs": [],
   "source": [
    "# Changing 4 values of LP2 and 6 values of WTL to null\n",
    "students.loc[1:4,'LP2']=np.nan\n",
    "students.loc[14:19,'WTL']=np.nan"
   ]
  },
  {
   "cell_type": "code",
   "execution_count": 13,
   "id": "758e88f8-e7fe-423d-9f5a-cea8ba3ea26e",
   "metadata": {},
   "outputs": [
    {
     "data": {
      "text/plain": [
       "gender                         0\n",
       "race/ethnicity                 0\n",
       "parental level of education    0\n",
       "lunch                          0\n",
       "test preparation course        0\n",
       "DSBDAL                         0\n",
       "LP2                            4\n",
       "WTL                            6\n",
       "dtype: int64"
      ]
     },
     "execution_count": 13,
     "metadata": {},
     "output_type": "execute_result"
    }
   ],
   "source": [
    "students.isnull().sum()"
   ]
  },
  {
   "cell_type": "code",
   "execution_count": 14,
   "id": "ccc3ac5c-3936-4f97-8fb6-b12f680b8a82",
   "metadata": {},
   "outputs": [],
   "source": [
    "# Placing 0's at Null values \n",
    "students.fillna(0,inplace=True)"
   ]
  },
  {
   "cell_type": "code",
   "execution_count": 15,
   "id": "9df4a69b-bcdf-4c7c-9d5c-231152bc2945",
   "metadata": {},
   "outputs": [],
   "source": [
    "# Replacing Null values by mean\n",
    "students['WTL'] = students['WTL'].fillna(students['WTL'].mean())"
   ]
  },
  {
   "cell_type": "code",
   "execution_count": 17,
   "id": "40ff2884-f0c2-4929-8ffe-e51d87eacb6a",
   "metadata": {},
   "outputs": [
    {
     "data": {
      "text/plain": [
       "DSBDAL   -0.278935\n",
       "LP2      -0.552158\n",
       "WTL      -0.627177\n",
       "dtype: float64"
      ]
     },
     "execution_count": 17,
     "metadata": {},
     "output_type": "execute_result"
    }
   ],
   "source": [
    "# Skewness of all numeric columns\n",
    "students.skew(numeric_only=True)"
   ]
  },
  {
   "cell_type": "code",
   "execution_count": 21,
   "id": "c4aed3d7-03e7-4ba9-8eea-fb9e1db9cd3f",
   "metadata": {},
   "outputs": [
    {
     "data": {
      "text/plain": [
       "0      False\n",
       "1      False\n",
       "2      False\n",
       "3      False\n",
       "4      False\n",
       "       ...  \n",
       "995    False\n",
       "996    False\n",
       "997    False\n",
       "998    False\n",
       "999    False\n",
       "Name: DSBDAL, Length: 1000, dtype: bool"
      ]
     },
     "execution_count": 21,
     "metadata": {},
     "output_type": "execute_result"
    }
   ],
   "source": [
    "# IQR method to find outliers of DBBDAL\n",
    "Q1 = students['DSBDAL'].quantile(0.25)\n",
    "Q3 = students['DSBDAL'].quantile(0.75)\n",
    "IQR = Q3 - Q1\n",
    "lower_bound = Q1 - 1.5*IQR\n",
    "upper_bound = Q3 + 1.5*IQR\n",
    "DSBDAL_outliers = (students['DSBDAL'] < lower_bound) | (students['DSBDAL'] > upper_bound)\n",
    "DSBDAL_outliers"
   ]
  },
  {
   "cell_type": "code",
   "execution_count": 22,
   "id": "be6bbe01-5eb2-4fdc-b28d-31a14cce0ed4",
   "metadata": {},
   "outputs": [
    {
     "data": {
      "text/plain": [
       "np.int64(8)"
      ]
     },
     "execution_count": 22,
     "metadata": {},
     "output_type": "execute_result"
    }
   ],
   "source": [
    " DSBDAL_outliers.sum()"
   ]
  },
  {
   "cell_type": "code",
   "execution_count": 24,
   "id": "9622b9fe-34cd-42ba-b317-1f6153c5c30e",
   "metadata": {},
   "outputs": [
    {
     "data": {
      "text/plain": [
       "np.int64(10)"
      ]
     },
     "execution_count": 24,
     "metadata": {},
     "output_type": "execute_result"
    }
   ],
   "source": [
    "# Outliers of LP2\n",
    "Q1 = students['LP2'].quantile(0.25)\n",
    "Q3 = students['LP2'].quantile(0.75)\n",
    "IQR = Q3 - Q1\n",
    "lower_bound = Q1 - 1.5*IQR\n",
    "upper_bound = Q3 + 1.5*IQR\n",
    "LP2_outliers = (students['LP2'] < lower_bound) | (students['LP2'] > upper_bound)\n",
    "LP2_outliers.sum()"
   ]
  },
  {
   "cell_type": "code",
   "execution_count": 25,
   "id": "07f7d706-a1d6-4aff-951f-ab22d9c70b06",
   "metadata": {},
   "outputs": [
    {
     "data": {
      "text/plain": [
       "np.int64(11)"
      ]
     },
     "execution_count": 25,
     "metadata": {},
     "output_type": "execute_result"
    }
   ],
   "source": [
    "# Outliers of WTL\n",
    "Q1 = students['WTL'].quantile(0.25)\n",
    "Q3 = students['WTL'].quantile(0.75)\n",
    "IQR = Q3 - Q1\n",
    "lower_bound = Q1 - 1.5*IQR\n",
    "upper_bound = Q3 + 1.5*IQR\n",
    "WTL_outliers = (students['WTL'] < lower_bound) | (students['WTL'] > upper_bound)\n",
    "WTL_outliers.sum()"
   ]
  },
  {
   "cell_type": "code",
   "execution_count": 26,
   "id": "d7274e2a-5b0a-4586-a35d-a30d7366dbb1",
   "metadata": {},
   "outputs": [
    {
     "data": {
      "image/png": "[encoded data removed]",
      "text/plain": [
       "<Figure size 640x480 with 1 Axes>"
      ]
     },
     "metadata": {},
     "output_type": "display_data"
    }
   ],
   "source": [
    "# Boxploting for outliers\n",
    "import matplotlib.pyplot as plt\n",
    "plt.boxplot([students['DSBDAL'],students['LP2'],students['WTL']])\n",
    "plt.title('Outliers')\n",
    "plt.xlabel('Subject')\n",
    "plt.ylabel('Marks')\n",
    "plt.show()"
   ]
  },
  {
   "cell_type": "code",
   "execution_count": 27,
   "id": "6bbd78fc-0731-41ca-98a9-2b20637d90d8",
   "metadata": {},
   "outputs": [
    {
     "data": {
      "image/png": "[encoded data removed]",
      "text/plain": [
       "<Figure size 640x480 with 1 Axes>"
      ]
     },
     "metadata": {},
     "output_type": "display_data"
    }
   ],
   "source": [
    "# sns to box plot the values that are out side the bars are the outliers\n",
    "import seaborn as sns\n",
    "sns.boxplot(students)\n",
    "plt.title('Outliers')\n",
    "plt.xlabel('Subject')\n",
    "plt.ylabel('Marks')\n",
    "plt.show()"
   ]
  },
  {
   "cell_type": "code",
   "execution_count": 30,
   "id": "a7a941b7-8f9b-40ab-abdf-36209d103efe",
   "metadata": {},
   "outputs": [
    {
     "data": {
      "image/png": "[encoded data removed]",
      "text/plain": [
       "<Figure size 640x480 with 3 Axes>"
      ]
     },
     "metadata": {},
     "output_type": "display_data"
    }
   ],
   "source": [
    "# Subplots for outliers\n",
    "plt.subplot(1,3,1)\n",
    "plt.scatter(students.index,students['DSBDAL'],marker='.',color='red',s=5)\n",
    "plt.title('DSBDAL')\n",
    "plt.subplot(1,3,2)\n",
    "plt.scatter(students.index,students['LP2'],marker='*',color='green',s=5)\n",
    "plt.title('LP2') \n",
    "plt.subplot(1,3,3)\n",
    "plt.scatter(students.index,students['WTL'],marker='.',color='blue',s=5)\n",
    "plt.title('WTL') \n",
    "plt.tight_layout()\n",
    "plt.show()"
   ]
  },
  {
   "cell_type": "code",
   "execution_count": 33,
   "id": "9f5ce8a6-ae60-4f87-929c-07c392163669",
   "metadata": {},
   "outputs": [
    {
     "name": "stdout",
     "output_type": "stream",
     "text": [
      "Outliers based on Z-score: 4\n"
     ]
    }
   ],
   "source": [
    "# Z-score method : outliers where Z-Score > 3 or < -3\n",
    "from scipy.stats import zscore\n",
    "students['DSBDAL_ZScore'] = zscore(students['DSBDAL'])\n",
    "DSBDAL_zscore = students[students['DSBDAL_ZScore'].abs() > 3]\n",
    "print(\"Outliers based on Z-score:\", len(DSBDAL_zscore))"
   ]
  },
  {
   "cell_type": "code",
   "execution_count": 34,
   "id": "4dfd1fa8-2daf-48ea-af87-b7633c8fb761",
   "metadata": {},
   "outputs": [],
   "source": [
    "# Replacing outliers with median of the column\n",
    "students.loc[DSBDAL_outliers, 'DSBDAL'] = students['DSBDAL'].median()"
   ]
  },
  {
   "cell_type": "code",
   "execution_count": 35,
   "id": "d1f5088b-c010-438e-97ad-2d46bae5812b",
   "metadata": {},
   "outputs": [],
   "source": [
    "students.loc[LP2_outliers, 'LP2'] = students['LP2'].mean()"
   ]
  },
  {
   "cell_type": "code",
   "execution_count": 36,
   "id": "59cda716-2ae1-46c5-9381-f4c5525c4ffd",
   "metadata": {},
   "outputs": [],
   "source": [
    "students.loc[WTL_outliers, 'WTL'] = students['WTL'].median()"
   ]
  },
  {
   "cell_type": "code",
   "execution_count": 37,
   "id": "665cb42c-b0d8-4268-891b-fe650a1da225",
   "metadata": {},
   "outputs": [
    {
     "data": {
      "text/plain": [
       "DSBDAL           -0.068786\n",
       "LP2              -0.138868\n",
       "WTL              -0.156380\n",
       "DSBDAL_Z-Score   -0.278935\n",
       "DSBDAL_ZScore    -0.278935\n",
       "dtype: float64"
      ]
     },
     "execution_count": 37,
     "metadata": {},
     "output_type": "execute_result"
    }
   ],
   "source": [
    "students.skew(numeric_only=True)"
   ]
  },
  {
   "cell_type": "code",
   "execution_count": 38,
   "id": "67fac9fe-ada6-4cca-ac8f-cf9409571369",
   "metadata": {},
   "outputs": [],
   "source": [
    "# min-max normalization\n",
    "minV=students['WTL'].min()\n",
    "maxV=students['WTL'].max()\n",
    "students['Normal_WTL']=((students['WTL']-minV)/(maxV-minV)).round(2)"
   ]
  },
  {
   "cell_type": "code",
   "execution_count": 39,
   "id": "f47fc398-df11-4097-934b-e500ab6525f5",
   "metadata": {},
   "outputs": [],
   "source": [
    "students[\"Total\"]=students[\"DSBDAL\"]+students[\"LP2\"]+students[\"WTL\"]"
   ]
  },
  {
   "cell_type": "code",
   "execution_count": 42,
   "id": "1bb016e1-9143-488b-b4ff-69dad7caf293",
   "metadata": {},
   "outputs": [
    {
     "data": {
      "text/html": [
       "<div>\n",
       "<style scoped>\n",
       "    .dataframe tbody tr th:only-of-type {\n",
       "        vertical-align: middle;\n",
       "    }\n",
       "\n",
       "    .dataframe tbody tr th {\n",
       "        vertical-align: top;\n",
       "    }\n",
       "\n",
       "    .dataframe thead th {\n",
       "        text-align: right;\n",
       "    }\n",
       "</style>\n",
       "<table border=\"1\" class=\"dataframe\">\n",
       "  <thead>\n",
       "    <tr style=\"text-align: right;\">\n",
       "      <th></th>\n",
       "      <th>gender</th>\n",
       "      <th>race/ethnicity</th>\n",
       "      <th>parental level of education</th>\n",
       "      <th>lunch</th>\n",
       "      <th>test preparation course</th>\n",
       "      <th>DSBDAL</th>\n",
       "      <th>LP2</th>\n",
       "      <th>WTL</th>\n",
       "      <th>DSBDAL_ZScore</th>\n",
       "      <th>Normal_WTL</th>\n",
       "      <th>Total</th>\n",
       "    </tr>\n",
       "  </thead>\n",
       "  <tbody>\n",
       "    <tr>\n",
       "      <th>0</th>\n",
       "      <td>female</td>\n",
       "      <td>group B</td>\n",
       "      <td>bachelor's degree</td>\n",
       "      <td>standard</td>\n",
       "      <td>none</td>\n",
       "      <td>72</td>\n",
       "      <td>72.000</td>\n",
       "      <td>74.0</td>\n",
       "      <td>0.390024</td>\n",
       "      <td>0.64</td>\n",
       "      <td>218.000</td>\n",
       "    </tr>\n",
       "    <tr>\n",
       "      <th>1</th>\n",
       "      <td>female</td>\n",
       "      <td>group C</td>\n",
       "      <td>some college</td>\n",
       "      <td>standard</td>\n",
       "      <td>completed</td>\n",
       "      <td>69</td>\n",
       "      <td>68.849</td>\n",
       "      <td>88.0</td>\n",
       "      <td>0.192076</td>\n",
       "      <td>0.84</td>\n",
       "      <td>225.849</td>\n",
       "    </tr>\n",
       "    <tr>\n",
       "      <th>2</th>\n",
       "      <td>female</td>\n",
       "      <td>group B</td>\n",
       "      <td>master's degree</td>\n",
       "      <td>standard</td>\n",
       "      <td>none</td>\n",
       "      <td>90</td>\n",
       "      <td>68.849</td>\n",
       "      <td>93.0</td>\n",
       "      <td>1.577711</td>\n",
       "      <td>0.90</td>\n",
       "      <td>251.849</td>\n",
       "    </tr>\n",
       "    <tr>\n",
       "      <th>3</th>\n",
       "      <td>male</td>\n",
       "      <td>group A</td>\n",
       "      <td>associate's degree</td>\n",
       "      <td>free/reduced</td>\n",
       "      <td>none</td>\n",
       "      <td>47</td>\n",
       "      <td>68.849</td>\n",
       "      <td>44.0</td>\n",
       "      <td>-1.259543</td>\n",
       "      <td>0.23</td>\n",
       "      <td>159.849</td>\n",
       "    </tr>\n",
       "    <tr>\n",
       "      <th>4</th>\n",
       "      <td>male</td>\n",
       "      <td>group C</td>\n",
       "      <td>some college</td>\n",
       "      <td>standard</td>\n",
       "      <td>none</td>\n",
       "      <td>76</td>\n",
       "      <td>68.849</td>\n",
       "      <td>75.0</td>\n",
       "      <td>0.653954</td>\n",
       "      <td>0.66</td>\n",
       "      <td>219.849</td>\n",
       "    </tr>\n",
       "    <tr>\n",
       "      <th>...</th>\n",
       "      <td>...</td>\n",
       "      <td>...</td>\n",
       "      <td>...</td>\n",
       "      <td>...</td>\n",
       "      <td>...</td>\n",
       "      <td>...</td>\n",
       "      <td>...</td>\n",
       "      <td>...</td>\n",
       "      <td>...</td>\n",
       "      <td>...</td>\n",
       "      <td>...</td>\n",
       "    </tr>\n",
       "    <tr>\n",
       "      <th>995</th>\n",
       "      <td>female</td>\n",
       "      <td>group E</td>\n",
       "      <td>master's degree</td>\n",
       "      <td>standard</td>\n",
       "      <td>completed</td>\n",
       "      <td>88</td>\n",
       "      <td>99.000</td>\n",
       "      <td>95.0</td>\n",
       "      <td>1.445746</td>\n",
       "      <td>0.93</td>\n",
       "      <td>282.000</td>\n",
       "    </tr>\n",
       "    <tr>\n",
       "      <th>996</th>\n",
       "      <td>male</td>\n",
       "      <td>group C</td>\n",
       "      <td>high school</td>\n",
       "      <td>free/reduced</td>\n",
       "      <td>none</td>\n",
       "      <td>62</td>\n",
       "      <td>55.000</td>\n",
       "      <td>55.0</td>\n",
       "      <td>-0.269803</td>\n",
       "      <td>0.38</td>\n",
       "      <td>172.000</td>\n",
       "    </tr>\n",
       "    <tr>\n",
       "      <th>997</th>\n",
       "      <td>female</td>\n",
       "      <td>group C</td>\n",
       "      <td>high school</td>\n",
       "      <td>free/reduced</td>\n",
       "      <td>completed</td>\n",
       "      <td>59</td>\n",
       "      <td>71.000</td>\n",
       "      <td>65.0</td>\n",
       "      <td>-0.467751</td>\n",
       "      <td>0.52</td>\n",
       "      <td>195.000</td>\n",
       "    </tr>\n",
       "    <tr>\n",
       "      <th>998</th>\n",
       "      <td>female</td>\n",
       "      <td>group D</td>\n",
       "      <td>some college</td>\n",
       "      <td>standard</td>\n",
       "      <td>completed</td>\n",
       "      <td>68</td>\n",
       "      <td>78.000</td>\n",
       "      <td>77.0</td>\n",
       "      <td>0.126093</td>\n",
       "      <td>0.68</td>\n",
       "      <td>223.000</td>\n",
       "    </tr>\n",
       "    <tr>\n",
       "      <th>999</th>\n",
       "      <td>female</td>\n",
       "      <td>group D</td>\n",
       "      <td>some college</td>\n",
       "      <td>free/reduced</td>\n",
       "      <td>none</td>\n",
       "      <td>77</td>\n",
       "      <td>86.000</td>\n",
       "      <td>86.0</td>\n",
       "      <td>0.719937</td>\n",
       "      <td>0.81</td>\n",
       "      <td>249.000</td>\n",
       "    </tr>\n",
       "  </tbody>\n",
       "</table>\n",
       "<p>1000 rows × 11 columns</p>\n",
       "</div>"
      ],
      "text/plain": [
       "     gender race/ethnicity parental level of education         lunch  \\\n",
       "0    female        group B           bachelor's degree      standard   \n",
       "1    female        group C                some college      standard   \n",
       "2    female        group B             master's degree      standard   \n",
       "3      male        group A          associate's degree  free/reduced   \n",
       "4      male        group C                some college      standard   \n",
       "..      ...            ...                         ...           ...   \n",
       "995  female        group E             master's degree      standard   \n",
       "996    male        group C                 high school  free/reduced   \n",
       "997  female        group C                 high school  free/reduced   \n",
       "998  female        group D                some college      standard   \n",
       "999  female        group D                some college  free/reduced   \n",
       "\n",
       "    test preparation course  DSBDAL     LP2   WTL  DSBDAL_ZScore  Normal_WTL  \\\n",
       "0                      none      72  72.000  74.0       0.390024        0.64   \n",
       "1                 completed      69  68.849  88.0       0.192076        0.84   \n",
       "2                      none      90  68.849  93.0       1.577711        0.90   \n",
       "3                      none      47  68.849  44.0      -1.259543        0.23   \n",
       "4                      none      76  68.849  75.0       0.653954        0.66   \n",
       "..                      ...     ...     ...   ...            ...         ...   \n",
       "995               completed      88  99.000  95.0       1.445746        0.93   \n",
       "996                    none      62  55.000  55.0      -0.269803        0.38   \n",
       "997               completed      59  71.000  65.0      -0.467751        0.52   \n",
       "998               completed      68  78.000  77.0       0.126093        0.68   \n",
       "999                    none      77  86.000  86.0       0.719937        0.81   \n",
       "\n",
       "       Total  \n",
       "0    218.000  \n",
       "1    225.849  \n",
       "2    251.849  \n",
       "3    159.849  \n",
       "4    219.849  \n",
       "..       ...  \n",
       "995  282.000  \n",
       "996  172.000  \n",
       "997  195.000  \n",
       "998  223.000  \n",
       "999  249.000  \n",
       "\n",
       "[1000 rows x 11 columns]"
      ]
     },
     "execution_count": 42,
     "metadata": {},
     "output_type": "execute_result"
    }
   ],
   "source": [
    "students"
   ]
  },
  {
   "cell_type": "code",
   "execution_count": 43,
   "id": "c31e151c-17e5-4be2-b1d6-ae384080e97b",
   "metadata": {},
   "outputs": [],
   "source": [
    "students['Total'] = students['Total'].astype(int)"
   ]
  },
  {
   "cell_type": "code",
   "execution_count": 44,
   "id": "d888f123-19e2-495f-9cf1-99a9e2ea2390",
   "metadata": {},
   "outputs": [
    {
     "data": {
      "text/html": [
       "<div>\n",
       "<style scoped>\n",
       "    .dataframe tbody tr th:only-of-type {\n",
       "        vertical-align: middle;\n",
       "    }\n",
       "\n",
       "    .dataframe tbody tr th {\n",
       "        vertical-align: top;\n",
       "    }\n",
       "\n",
       "    .dataframe thead th {\n",
       "        text-align: right;\n",
       "    }\n",
       "</style>\n",
       "<table border=\"1\" class=\"dataframe\">\n",
       "  <thead>\n",
       "    <tr style=\"text-align: right;\">\n",
       "      <th></th>\n",
       "      <th>gender</th>\n",
       "      <th>race/ethnicity</th>\n",
       "      <th>parental level of education</th>\n",
       "      <th>lunch</th>\n",
       "      <th>test preparation course</th>\n",
       "      <th>DSBDAL</th>\n",
       "      <th>LP2</th>\n",
       "      <th>WTL</th>\n",
       "      <th>DSBDAL_ZScore</th>\n",
       "      <th>Normal_WTL</th>\n",
       "      <th>Total</th>\n",
       "    </tr>\n",
       "  </thead>\n",
       "  <tbody>\n",
       "    <tr>\n",
       "      <th>0</th>\n",
       "      <td>female</td>\n",
       "      <td>group B</td>\n",
       "      <td>bachelor's degree</td>\n",
       "      <td>standard</td>\n",
       "      <td>none</td>\n",
       "      <td>72</td>\n",
       "      <td>72.000</td>\n",
       "      <td>74.0</td>\n",
       "      <td>0.390024</td>\n",
       "      <td>0.64</td>\n",
       "      <td>21.8</td>\n",
       "    </tr>\n",
       "    <tr>\n",
       "      <th>1</th>\n",
       "      <td>female</td>\n",
       "      <td>group C</td>\n",
       "      <td>some college</td>\n",
       "      <td>standard</td>\n",
       "      <td>completed</td>\n",
       "      <td>69</td>\n",
       "      <td>68.849</td>\n",
       "      <td>88.0</td>\n",
       "      <td>0.192076</td>\n",
       "      <td>0.84</td>\n",
       "      <td>22.5</td>\n",
       "    </tr>\n",
       "    <tr>\n",
       "      <th>2</th>\n",
       "      <td>female</td>\n",
       "      <td>group B</td>\n",
       "      <td>master's degree</td>\n",
       "      <td>standard</td>\n",
       "      <td>none</td>\n",
       "      <td>90</td>\n",
       "      <td>68.849</td>\n",
       "      <td>93.0</td>\n",
       "      <td>1.577711</td>\n",
       "      <td>0.90</td>\n",
       "      <td>25.1</td>\n",
       "    </tr>\n",
       "    <tr>\n",
       "      <th>3</th>\n",
       "      <td>male</td>\n",
       "      <td>group A</td>\n",
       "      <td>associate's degree</td>\n",
       "      <td>free/reduced</td>\n",
       "      <td>none</td>\n",
       "      <td>47</td>\n",
       "      <td>68.849</td>\n",
       "      <td>44.0</td>\n",
       "      <td>-1.259543</td>\n",
       "      <td>0.23</td>\n",
       "      <td>15.9</td>\n",
       "    </tr>\n",
       "    <tr>\n",
       "      <th>4</th>\n",
       "      <td>male</td>\n",
       "      <td>group C</td>\n",
       "      <td>some college</td>\n",
       "      <td>standard</td>\n",
       "      <td>none</td>\n",
       "      <td>76</td>\n",
       "      <td>68.849</td>\n",
       "      <td>75.0</td>\n",
       "      <td>0.653954</td>\n",
       "      <td>0.66</td>\n",
       "      <td>21.9</td>\n",
       "    </tr>\n",
       "    <tr>\n",
       "      <th>...</th>\n",
       "      <td>...</td>\n",
       "      <td>...</td>\n",
       "      <td>...</td>\n",
       "      <td>...</td>\n",
       "      <td>...</td>\n",
       "      <td>...</td>\n",
       "      <td>...</td>\n",
       "      <td>...</td>\n",
       "      <td>...</td>\n",
       "      <td>...</td>\n",
       "      <td>...</td>\n",
       "    </tr>\n",
       "    <tr>\n",
       "      <th>995</th>\n",
       "      <td>female</td>\n",
       "      <td>group E</td>\n",
       "      <td>master's degree</td>\n",
       "      <td>standard</td>\n",
       "      <td>completed</td>\n",
       "      <td>88</td>\n",
       "      <td>99.000</td>\n",
       "      <td>95.0</td>\n",
       "      <td>1.445746</td>\n",
       "      <td>0.93</td>\n",
       "      <td>28.2</td>\n",
       "    </tr>\n",
       "    <tr>\n",
       "      <th>996</th>\n",
       "      <td>male</td>\n",
       "      <td>group C</td>\n",
       "      <td>high school</td>\n",
       "      <td>free/reduced</td>\n",
       "      <td>none</td>\n",
       "      <td>62</td>\n",
       "      <td>55.000</td>\n",
       "      <td>55.0</td>\n",
       "      <td>-0.269803</td>\n",
       "      <td>0.38</td>\n",
       "      <td>17.2</td>\n",
       "    </tr>\n",
       "    <tr>\n",
       "      <th>997</th>\n",
       "      <td>female</td>\n",
       "      <td>group C</td>\n",
       "      <td>high school</td>\n",
       "      <td>free/reduced</td>\n",
       "      <td>completed</td>\n",
       "      <td>59</td>\n",
       "      <td>71.000</td>\n",
       "      <td>65.0</td>\n",
       "      <td>-0.467751</td>\n",
       "      <td>0.52</td>\n",
       "      <td>19.5</td>\n",
       "    </tr>\n",
       "    <tr>\n",
       "      <th>998</th>\n",
       "      <td>female</td>\n",
       "      <td>group D</td>\n",
       "      <td>some college</td>\n",
       "      <td>standard</td>\n",
       "      <td>completed</td>\n",
       "      <td>68</td>\n",
       "      <td>78.000</td>\n",
       "      <td>77.0</td>\n",
       "      <td>0.126093</td>\n",
       "      <td>0.68</td>\n",
       "      <td>22.3</td>\n",
       "    </tr>\n",
       "    <tr>\n",
       "      <th>999</th>\n",
       "      <td>female</td>\n",
       "      <td>group D</td>\n",
       "      <td>some college</td>\n",
       "      <td>free/reduced</td>\n",
       "      <td>none</td>\n",
       "      <td>77</td>\n",
       "      <td>86.000</td>\n",
       "      <td>86.0</td>\n",
       "      <td>0.719937</td>\n",
       "      <td>0.81</td>\n",
       "      <td>24.9</td>\n",
       "    </tr>\n",
       "  </tbody>\n",
       "</table>\n",
       "<p>1000 rows × 11 columns</p>\n",
       "</div>"
      ],
      "text/plain": [
       "     gender race/ethnicity parental level of education         lunch  \\\n",
       "0    female        group B           bachelor's degree      standard   \n",
       "1    female        group C                some college      standard   \n",
       "2    female        group B             master's degree      standard   \n",
       "3      male        group A          associate's degree  free/reduced   \n",
       "4      male        group C                some college      standard   \n",
       "..      ...            ...                         ...           ...   \n",
       "995  female        group E             master's degree      standard   \n",
       "996    male        group C                 high school  free/reduced   \n",
       "997  female        group C                 high school  free/reduced   \n",
       "998  female        group D                some college      standard   \n",
       "999  female        group D                some college  free/reduced   \n",
       "\n",
       "    test preparation course  DSBDAL     LP2   WTL  DSBDAL_ZScore  Normal_WTL  \\\n",
       "0                      none      72  72.000  74.0       0.390024        0.64   \n",
       "1                 completed      69  68.849  88.0       0.192076        0.84   \n",
       "2                      none      90  68.849  93.0       1.577711        0.90   \n",
       "3                      none      47  68.849  44.0      -1.259543        0.23   \n",
       "4                      none      76  68.849  75.0       0.653954        0.66   \n",
       "..                      ...     ...     ...   ...            ...         ...   \n",
       "995               completed      88  99.000  95.0       1.445746        0.93   \n",
       "996                    none      62  55.000  55.0      -0.269803        0.38   \n",
       "997               completed      59  71.000  65.0      -0.467751        0.52   \n",
       "998               completed      68  78.000  77.0       0.126093        0.68   \n",
       "999                    none      77  86.000  86.0       0.719937        0.81   \n",
       "\n",
       "     Total  \n",
       "0     21.8  \n",
       "1     22.5  \n",
       "2     25.1  \n",
       "3     15.9  \n",
       "4     21.9  \n",
       "..     ...  \n",
       "995   28.2  \n",
       "996   17.2  \n",
       "997   19.5  \n",
       "998   22.3  \n",
       "999   24.9  \n",
       "\n",
       "[1000 rows x 11 columns]"
      ]
     },
     "execution_count": 44,
     "metadata": {},
     "output_type": "execute_result"
    }
   ],
   "source": [
    "#Scaling total score to out of 30 marks\n",
    "students[\"Total\"]=students[\"Total\"]/10\n",
    "students"
   ]
  },
  {
   "cell_type": "code",
   "execution_count": 45,
   "id": "4eb90b85-95f7-4d78-898a-a514f9548d20",
   "metadata": {},
   "outputs": [
    {
     "data": {
      "text/html": [
       "<div>\n",
       "<style scoped>\n",
       "    .dataframe tbody tr th:only-of-type {\n",
       "        vertical-align: middle;\n",
       "    }\n",
       "\n",
       "    .dataframe tbody tr th {\n",
       "        vertical-align: top;\n",
       "    }\n",
       "\n",
       "    .dataframe thead th {\n",
       "        text-align: right;\n",
       "    }\n",
       "</style>\n",
       "<table border=\"1\" class=\"dataframe\">\n",
       "  <thead>\n",
       "    <tr style=\"text-align: right;\">\n",
       "      <th></th>\n",
       "      <th>gender</th>\n",
       "      <th>race/ethnicity</th>\n",
       "      <th>parental level of education</th>\n",
       "      <th>lunch</th>\n",
       "      <th>test preparation course</th>\n",
       "      <th>DSBDAL</th>\n",
       "      <th>LP2</th>\n",
       "      <th>WTL</th>\n",
       "      <th>DSBDAL_ZScore</th>\n",
       "      <th>Normal_WTL</th>\n",
       "      <th>Total</th>\n",
       "    </tr>\n",
       "  </thead>\n",
       "  <tbody>\n",
       "    <tr>\n",
       "      <th>0</th>\n",
       "      <td>female</td>\n",
       "      <td>group B</td>\n",
       "      <td>bachelor's degree</td>\n",
       "      <td>standard</td>\n",
       "      <td>none</td>\n",
       "      <td>72</td>\n",
       "      <td>72.000</td>\n",
       "      <td>0.38</td>\n",
       "      <td>0.390024</td>\n",
       "      <td>0.64</td>\n",
       "      <td>21.8</td>\n",
       "    </tr>\n",
       "    <tr>\n",
       "      <th>1</th>\n",
       "      <td>female</td>\n",
       "      <td>group C</td>\n",
       "      <td>some college</td>\n",
       "      <td>standard</td>\n",
       "      <td>completed</td>\n",
       "      <td>69</td>\n",
       "      <td>68.849</td>\n",
       "      <td>1.34</td>\n",
       "      <td>0.192076</td>\n",
       "      <td>0.84</td>\n",
       "      <td>22.5</td>\n",
       "    </tr>\n",
       "    <tr>\n",
       "      <th>2</th>\n",
       "      <td>female</td>\n",
       "      <td>group B</td>\n",
       "      <td>master's degree</td>\n",
       "      <td>standard</td>\n",
       "      <td>none</td>\n",
       "      <td>90</td>\n",
       "      <td>68.849</td>\n",
       "      <td>1.68</td>\n",
       "      <td>1.577711</td>\n",
       "      <td>0.90</td>\n",
       "      <td>25.1</td>\n",
       "    </tr>\n",
       "    <tr>\n",
       "      <th>3</th>\n",
       "      <td>male</td>\n",
       "      <td>group A</td>\n",
       "      <td>associate's degree</td>\n",
       "      <td>free/reduced</td>\n",
       "      <td>none</td>\n",
       "      <td>47</td>\n",
       "      <td>68.849</td>\n",
       "      <td>-1.66</td>\n",
       "      <td>-1.259543</td>\n",
       "      <td>0.23</td>\n",
       "      <td>15.9</td>\n",
       "    </tr>\n",
       "    <tr>\n",
       "      <th>4</th>\n",
       "      <td>male</td>\n",
       "      <td>group C</td>\n",
       "      <td>some college</td>\n",
       "      <td>standard</td>\n",
       "      <td>none</td>\n",
       "      <td>76</td>\n",
       "      <td>68.849</td>\n",
       "      <td>0.45</td>\n",
       "      <td>0.653954</td>\n",
       "      <td>0.66</td>\n",
       "      <td>21.9</td>\n",
       "    </tr>\n",
       "  </tbody>\n",
       "</table>\n",
       "</div>"
      ],
      "text/plain": [
       "   gender race/ethnicity parental level of education         lunch  \\\n",
       "0  female        group B           bachelor's degree      standard   \n",
       "1  female        group C                some college      standard   \n",
       "2  female        group B             master's degree      standard   \n",
       "3    male        group A          associate's degree  free/reduced   \n",
       "4    male        group C                some college      standard   \n",
       "\n",
       "  test preparation course  DSBDAL     LP2   WTL  DSBDAL_ZScore  Normal_WTL  \\\n",
       "0                    none      72  72.000  0.38       0.390024        0.64   \n",
       "1               completed      69  68.849  1.34       0.192076        0.84   \n",
       "2                    none      90  68.849  1.68       1.577711        0.90   \n",
       "3                    none      47  68.849 -1.66      -1.259543        0.23   \n",
       "4                    none      76  68.849  0.45       0.653954        0.66   \n",
       "\n",
       "   Total  \n",
       "0   21.8  \n",
       "1   22.5  \n",
       "2   25.1  \n",
       "3   15.9  \n",
       "4   21.9  "
      ]
     },
     "execution_count": 45,
     "metadata": {},
     "output_type": "execute_result"
    }
   ],
   "source": [
    "# Z-Score Normalization = (x-mean(x))/std(x)\n",
    "students[\"WTL\"]=((students[\"WTL\"]-students[\"WTL\"].mean())/students[\"WTL\"].std()).round(2)\n",
    "students.head()"
   ]
  },
  {
   "cell_type": "code",
   "execution_count": null,
   "id": "deb64c78-864f-4c8d-940f-9522d673c24d",
   "metadata": {},
   "outputs": [],
   "source": []
  }
 ],
 "metadata": {
  "kernelspec": {
   "display_name": "Python 3 (ipykernel)",
   "language": "python",
   "name": "python3"
  },
  "language_info": {
   "codemirror_mode": {
    "name": "ipython",
    "version": 3
   },
   "file_extension": ".py",
   "mimetype": "text/x-python",
   "name": "python",
   "nbconvert_exporter": "python",
   "pygments_lexer": "ipython3",
   "version": "3.13.2"
  }
 },
 "nbformat": 4,
 "nbformat_minor": 5
}
