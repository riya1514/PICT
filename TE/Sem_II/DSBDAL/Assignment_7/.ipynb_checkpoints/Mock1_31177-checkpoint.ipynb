{
  "cells": [
    {
      "cell_type": "code",
      "execution_count": null,
      "id": "6cab8fd8",
      "metadata": {
        "id": "6cab8fd8"
      },
      "outputs": [],
      "source": [
        "import nltk"
      ]
    },
    {
      "cell_type": "code",
      "execution_count": null,
      "id": "e97a4964",
      "metadata": {
        "id": "e97a4964",
        "outputId": "e62a32ca-3724-4007-b5fc-e06a74ae0927"
      },
      "outputs": [
        {
          "name": "stderr",
          "output_type": "stream",
          "text": [
            "[nltk_data] Downloading collection 'popular'\n",
            "[nltk_data]    | \n",
            "[nltk_data]    | Downloading package cmudict to\n",
            "[nltk_data]    |     /home/pict/nltk_data...\n",
            "[nltk_data]    |   Package cmudict is already up-to-date!\n",
            "[nltk_data]    | Downloading package gazetteers to\n",
            "[nltk_data]    |     /home/pict/nltk_data...\n",
            "[nltk_data]    |   Package gazetteers is already up-to-date!\n",
            "[nltk_data]    | Downloading package genesis to\n",
            "[nltk_data]    |     /home/pict/nltk_data...\n",
            "[nltk_data]    |   Package genesis is already up-to-date!\n",
            "[nltk_data]    | Downloading package gutenberg to\n",
            "[nltk_data]    |     /home/pict/nltk_data...\n",
            "[nltk_data]    |   Package gutenberg is already up-to-date!\n",
            "[nltk_data]    | Downloading package inaugural to\n",
            "[nltk_data]    |     /home/pict/nltk_data...\n",
            "[nltk_data]    |   Package inaugural is already up-to-date!\n",
            "[nltk_data]    | Downloading package movie_reviews to\n",
            "[nltk_data]    |     /home/pict/nltk_data...\n",
            "[nltk_data]    |   Package movie_reviews is already up-to-date!\n",
            "[nltk_data]    | Downloading package names to /home/pict/nltk_data...\n",
            "[nltk_data]    |   Package names is already up-to-date!\n",
            "[nltk_data]    | Downloading package shakespeare to\n",
            "[nltk_data]    |     /home/pict/nltk_data...\n",
            "[nltk_data]    |   Package shakespeare is already up-to-date!\n",
            "[nltk_data]    | Downloading package stopwords to\n",
            "[nltk_data]    |     /home/pict/nltk_data...\n",
            "[nltk_data]    |   Package stopwords is already up-to-date!\n",
            "[nltk_data]    | Downloading package treebank to\n",
            "[nltk_data]    |     /home/pict/nltk_data...\n",
            "[nltk_data]    |   Package treebank is already up-to-date!\n",
            "[nltk_data]    | Downloading package twitter_samples to\n",
            "[nltk_data]    |     /home/pict/nltk_data...\n",
            "[nltk_data]    |   Package twitter_samples is already up-to-date!\n",
            "[nltk_data]    | Downloading package omw to /home/pict/nltk_data...\n",
            "[nltk_data]    |   Package omw is already up-to-date!\n",
            "[nltk_data]    | Downloading package omw-1.4 to\n",
            "[nltk_data]    |     /home/pict/nltk_data...\n",
            "[nltk_data]    |   Package omw-1.4 is already up-to-date!\n",
            "[nltk_data]    | Downloading package wordnet to\n",
            "[nltk_data]    |     /home/pict/nltk_data...\n",
            "[nltk_data]    |   Package wordnet is already up-to-date!\n",
            "[nltk_data]    | Downloading package wordnet2021 to\n",
            "[nltk_data]    |     /home/pict/nltk_data...\n",
            "[nltk_data]    |   Package wordnet2021 is already up-to-date!\n",
            "[nltk_data]    | Downloading package wordnet31 to\n",
            "[nltk_data]    |     /home/pict/nltk_data...\n",
            "[nltk_data]    |   Package wordnet31 is already up-to-date!\n",
            "[nltk_data]    | Downloading package wordnet_ic to\n",
            "[nltk_data]    |     /home/pict/nltk_data...\n",
            "[nltk_data]    |   Package wordnet_ic is already up-to-date!\n",
            "[nltk_data]    | Downloading package words to /home/pict/nltk_data...\n",
            "[nltk_data]    |   Package words is already up-to-date!\n",
            "[nltk_data]    | Downloading package maxent_ne_chunker to\n",
            "[nltk_data]    |     /home/pict/nltk_data...\n",
            "[nltk_data]    |   Package maxent_ne_chunker is already up-to-date!\n",
            "[nltk_data]    | Downloading package punkt to /home/pict/nltk_data...\n",
            "[nltk_data]    |   Package punkt is already up-to-date!\n",
            "[nltk_data]    | Downloading package snowball_data to\n",
            "[nltk_data]    |     /home/pict/nltk_data...\n",
            "[nltk_data]    |   Package snowball_data is already up-to-date!\n",
            "[nltk_data]    | Downloading package averaged_perceptron_tagger to\n",
            "[nltk_data]    |     /home/pict/nltk_data...\n",
            "[nltk_data]    |   Package averaged_perceptron_tagger is already up-\n",
            "[nltk_data]    |       to-date!\n",
            "[nltk_data]    | \n",
            "[nltk_data]  Done downloading collection popular\n",
            "[nltk_data] Downloading package punkt_tab to /home/pict/nltk_data...\n",
            "[nltk_data]   Package punkt_tab is already up-to-date!\n",
            "[nltk_data] Downloading package stopwords to /home/pict/nltk_data...\n",
            "[nltk_data]   Package stopwords is already up-to-date!\n",
            "[nltk_data] Downloading package averaged_perceptron_tagger_eng to\n",
            "[nltk_data]     /home/pict/nltk_data...\n",
            "[nltk_data]   Package averaged_perceptron_tagger_eng is already up-to-\n",
            "[nltk_data]       date!\n"
          ]
        },
        {
          "data": {
            "text/plain": [
              "True"
            ]
          },
          "execution_count": 4,
          "metadata": {},
          "output_type": "execute_result"
        }
      ],
      "source": [
        "nltk.download('popular')\n",
        "nltk.download('punkt_tab')\n",
        "nltk.download('stopwords')\n",
        "nltk.download('averaged_perceptron_tagger_eng')"
      ]
    },
    {
      "cell_type": "code",
      "execution_count": null,
      "id": "7f14ede8",
      "metadata": {
        "id": "7f14ede8"
      },
      "outputs": [],
      "source": [
        "p1 = '''The Department of Computer Engineering was established in 1983 with the intent to provide quality education to the young aspirants. The department is pioneer in providing education in Computer Engineering among self financed institutes in Maharashtra. A team of 52 teaching and 10 technical staff members under the leadership of Dr. Geetanjali V. Kale unanimously harnesses its potential in all aspects to take the department to greater heights. The department had intake of 60 in 1983 and now the current intake for the undergraduate program is 240. The department has received approval from AICTE to conduct UG program for working professionals with 60 intake from A.Y. 2024-25. The Postgraduate (PG) program in Computer Engineering was started in 2000 with a student intake of 25 and PG in Data Science with an intake of 24 from 2020. Subsequently in 2013, intake is increased to 49 with addition of second division of 24 students. In 2020, the second division of 24 students is converted into PG in Data Science. From A.Y. 2022-23, both Data Science and Computer Engineering PG programs has intake of 12 students each. The department has a Ph.D. research centre, since 2012. All the UG, PG and Ph.D. programs are affiliated to Savitribai Phule Pune University (SPPU).\n",
        "\n",
        "Students are regularly placed in top MNCs with an average package of 13.5 LPA. Our students are pursuing higher education in top universities (Indian as well as Foreign). The department encourages students to participate in various National and International level competitions, project exhibitions, hackathons, sports events and extra-curricular activities. Students have won awards in various competitions including significant achievements in Smart India Hackathon. Department is also assisting students in getting internships at niche companies with pre-placement offers.'''\n",
        "\n",
        "p2 = '''The department of Information Technology is well known for academic excellence, research culture delivered through it’s undergraduate and postgraduate programs. The Bachelor of Engineering (B.E.) Programme in Information Technology started in the academic year 2001-2002 with an intake capacity of 60 and currently running with intake capacity of 180 students . The Master of Engineering (M.E.) programme started in academic year 2011-2012 with an intake capacity of 18 students.\n",
        "\n",
        "Department of Information Technology is recognized for imparting core knowledge, advanced technological trends and ethics for better employability. The Department offers best infrastructure and computing facilities to stakeholders.\n",
        "\n",
        "A team of 39 Teaching and 08 Technical Staff members under the leadership of Dr. Archana S. Ghotkar unanimously harnesses its potential in all aspects to take the department to greater heights.'''"
      ]
    },
    {
      "cell_type": "code",
      "execution_count": null,
      "id": "fbffd714",
      "metadata": {
        "id": "fbffd714",
        "outputId": "d26a2e54-c8ab-4bcd-c241-30de84aab986"
      },
      "outputs": [
        {
          "name": "stdout",
          "output_type": "stream",
          "text": [
            "['The Department of Computer Engineering was established in 1983 with the intent to provide quality education to the young aspirants.', 'The department is pioneer in providing education in Computer Engineering among self financed institutes in Maharashtra.', 'A team of 52 teaching and 10 technical staff members under the leadership of Dr. Geetanjali V. Kale unanimously harnesses its potential in all aspects to take the department to greater heights.', 'The department had intake of 60 in 1983 and now the current intake for the undergraduate program is 240.', 'The department has received approval from AICTE to conduct UG program for working professionals with 60 intake from A.Y.', '2024-25.', 'The Postgraduate (PG) program in Computer Engineering was started in 2000 with a student intake of 25 and PG in Data Science with an intake of 24 from 2020.', 'Subsequently in 2013, intake is increased to 49 with addition of second division of 24 students.', 'In 2020, the second division of 24 students is converted into PG in Data Science.', 'From A.Y.', '2022-23, both Data Science and Computer Engineering PG programs has intake of 12 students each.', 'The department has a Ph.D. research centre, since 2012.', 'All the UG, PG and Ph.D. programs are affiliated to Savitribai Phule Pune University (SPPU).', 'Students are regularly placed in top MNCs with an average package of 13.5 LPA.', 'Our students are pursuing higher education in top universities (Indian as well as Foreign).', 'The department encourages students to participate in various National and International level competitions, project exhibitions, hackathons, sports events and extra-curricular activities.', 'Students have won awards in various competitions including significant achievements in Smart India Hackathon.', 'Department is also assisting students in getting internships at niche companies with pre-placement offers.']\n",
            "\n",
            "\n"
          ]
        }
      ],
      "source": [
        "# Sentence tokenization p1\n",
        "from nltk import sent_tokenize, word_tokenize\n",
        "\n",
        "data = [p1]\n",
        "sentence_tokens=[]\n",
        "for i in range(len(data)):\n",
        "    print(sent_tokenize(data[i]))\n",
        "    sentence_tokens.append(sent_tokenize(data[i]))\n",
        "    print(\"\\n\")"
      ]
    },
    {
      "cell_type": "code",
      "execution_count": null,
      "id": "0f62b798",
      "metadata": {
        "id": "0f62b798",
        "outputId": "90a4153b-a95c-4e03-8fca-53665f0d9b8c"
      },
      "outputs": [
        {
          "name": "stdout",
          "output_type": "stream",
          "text": [
            "['The', 'Department', 'of', 'Computer', 'Engineering', 'was', 'established', 'in', '1983', 'with', 'the', 'intent', 'to', 'provide', 'quality', 'education', 'to', 'the', 'young', 'aspirants', '.', 'The', 'department', 'is', 'pioneer', 'in', 'providing', 'education', 'in', 'Computer', 'Engineering', 'among', 'self', 'financed', 'institutes', 'in', 'Maharashtra', '.', 'A', 'team', 'of', '52', 'teaching', 'and', '10', 'technical', 'staff', 'members', 'under', 'the', 'leadership', 'of', 'Dr.', 'Geetanjali', 'V.', 'Kale', 'unanimously', 'harnesses', 'its', 'potential', 'in', 'all', 'aspects', 'to', 'take', 'the', 'department', 'to', 'greater', 'heights', '.', 'The', 'department', 'had', 'intake', 'of', '60', 'in', '1983', 'and', 'now', 'the', 'current', 'intake', 'for', 'the', 'undergraduate', 'program', 'is', '240', '.', 'The', 'department', 'has', 'received', 'approval', 'from', 'AICTE', 'to', 'conduct', 'UG', 'program', 'for', 'working', 'professionals', 'with', '60', 'intake', 'from', 'A.Y', '.', '2024-25', '.', 'The', 'Postgraduate', '(', 'PG', ')', 'program', 'in', 'Computer', 'Engineering', 'was', 'started', 'in', '2000', 'with', 'a', 'student', 'intake', 'of', '25', 'and', 'PG', 'in', 'Data', 'Science', 'with', 'an', 'intake', 'of', '24', 'from', '2020', '.', 'Subsequently', 'in', '2013', ',', 'intake', 'is', 'increased', 'to', '49', 'with', 'addition', 'of', 'second', 'division', 'of', '24', 'students', '.', 'In', '2020', ',', 'the', 'second', 'division', 'of', '24', 'students', 'is', 'converted', 'into', 'PG', 'in', 'Data', 'Science', '.', 'From', 'A.Y', '.', '2022-23', ',', 'both', 'Data', 'Science', 'and', 'Computer', 'Engineering', 'PG', 'programs', 'has', 'intake', 'of', '12', 'students', 'each', '.', 'The', 'department', 'has', 'a', 'Ph.D.', 'research', 'centre', ',', 'since', '2012', '.', 'All', 'the', 'UG', ',', 'PG', 'and', 'Ph.D.', 'programs', 'are', 'affiliated', 'to', 'Savitribai', 'Phule', 'Pune', 'University', '(', 'SPPU', ')', '.', 'Students', 'are', 'regularly', 'placed', 'in', 'top', 'MNCs', 'with', 'an', 'average', 'package', 'of', '13.5', 'LPA', '.', 'Our', 'students', 'are', 'pursuing', 'higher', 'education', 'in', 'top', 'universities', '(', 'Indian', 'as', 'well', 'as', 'Foreign', ')', '.', 'The', 'department', 'encourages', 'students', 'to', 'participate', 'in', 'various', 'National', 'and', 'International', 'level', 'competitions', ',', 'project', 'exhibitions', ',', 'hackathons', ',', 'sports', 'events', 'and', 'extra-curricular', 'activities', '.', 'Students', 'have', 'won', 'awards', 'in', 'various', 'competitions', 'including', 'significant', 'achievements', 'in', 'Smart', 'India', 'Hackathon', '.', 'Department', 'is', 'also', 'assisting', 'students', 'in', 'getting', 'internships', 'at', 'niche', 'companies', 'with', 'pre-placement', 'offers', '.']\n",
            "\n",
            "\n"
          ]
        }
      ],
      "source": [
        "# Word tokenization\n",
        "word_tokens=[]\n",
        "for i in range(len(data)):\n",
        "    print(word_tokenize(data[i]))\n",
        "    word_tokens.append(word_tokenize(data[i]))\n",
        "    print(\"\\n\")"
      ]
    },
    {
      "cell_type": "code",
      "execution_count": null,
      "id": "e27b3165",
      "metadata": {
        "id": "e27b3165",
        "outputId": "7acb433a-0c5c-492a-cd83-d6d2a9ae9aec"
      },
      "outputs": [
        {
          "name": "stdout",
          "output_type": "stream",
          "text": [
            "['The department of Information Technology is well known for academic excellence, research culture delivered through it’s undergraduate and postgraduate programs.', 'The Bachelor of Engineering (B.E.)', 'Programme in Information Technology started in the academic year 2001-2002 with an intake capacity of 60 and currently running with intake capacity of 180 students .', 'The Master of Engineering (M.E.)', 'programme started in academic year 2011-2012 with an intake capacity of 18 students.', 'Department of Information Technology is recognized for imparting core knowledge, advanced technological trends and ethics for better employability.', 'The Department offers best infrastructure and computing facilities to stakeholders.', 'A team of 39 Teaching and 08 Technical Staff members under the leadership of Dr. Archana S. Ghotkar unanimously harnesses its potential in all aspects to take the department to greater heights.']\n",
            "\n",
            "\n"
          ]
        }
      ],
      "source": [
        "# Sentence tokenization p2\n",
        "from nltk import sent_tokenize, word_tokenize\n",
        "\n",
        "data2 = [p2]\n",
        "sentence_tokens2=[]\n",
        "for i in range(len(data2)):\n",
        "    print(sent_tokenize(data2[i]))\n",
        "    sentence_tokens2.append(sent_tokenize(data2[i]))\n",
        "    print(\"\\n\")"
      ]
    },
    {
      "cell_type": "code",
      "execution_count": null,
      "id": "2c60cc2b",
      "metadata": {
        "id": "2c60cc2b",
        "outputId": "78b11d23-7c64-432c-a50a-f5146b714b61"
      },
      "outputs": [
        {
          "name": "stdout",
          "output_type": "stream",
          "text": [
            "['The', 'department', 'of', 'Information', 'Technology', 'is', 'well', 'known', 'for', 'academic', 'excellence', ',', 'research', 'culture', 'delivered', 'through', 'it', '’', 's', 'undergraduate', 'and', 'postgraduate', 'programs', '.', 'The', 'Bachelor', 'of', 'Engineering', '(', 'B.E', '.', ')', 'Programme', 'in', 'Information', 'Technology', 'started', 'in', 'the', 'academic', 'year', '2001-2002', 'with', 'an', 'intake', 'capacity', 'of', '60', 'and', 'currently', 'running', 'with', 'intake', 'capacity', 'of', '180', 'students', '.', 'The', 'Master', 'of', 'Engineering', '(', 'M.E', '.', ')', 'programme', 'started', 'in', 'academic', 'year', '2011-2012', 'with', 'an', 'intake', 'capacity', 'of', '18', 'students', '.', 'Department', 'of', 'Information', 'Technology', 'is', 'recognized', 'for', 'imparting', 'core', 'knowledge', ',', 'advanced', 'technological', 'trends', 'and', 'ethics', 'for', 'better', 'employability', '.', 'The', 'Department', 'offers', 'best', 'infrastructure', 'and', 'computing', 'facilities', 'to', 'stakeholders', '.', 'A', 'team', 'of', '39', 'Teaching', 'and', '08', 'Technical', 'Staff', 'members', 'under', 'the', 'leadership', 'of', 'Dr.', 'Archana', 'S.', 'Ghotkar', 'unanimously', 'harnesses', 'its', 'potential', 'in', 'all', 'aspects', 'to', 'take', 'the', 'department', 'to', 'greater', 'heights', '.']\n",
            "\n",
            "\n"
          ]
        }
      ],
      "source": [
        "# Word tokenization p2\n",
        "word_tokens2=[]\n",
        "for i in range(len(data2)):\n",
        "    print(word_tokenize(data2[i]))\n",
        "    word_tokens2.append(word_tokenize(data2[i]))\n",
        "    print(\"\\n\")"
      ]
    },
    {
      "cell_type": "code",
      "execution_count": null,
      "id": "3442c00b",
      "metadata": {
        "id": "3442c00b"
      },
      "outputs": [],
      "source": [
        "from nltk.corpus import stopwords\n",
        "stopwords = stopwords.words('english')"
      ]
    },
    {
      "cell_type": "code",
      "execution_count": null,
      "id": "297e60dd",
      "metadata": {
        "id": "297e60dd",
        "outputId": "422f1f4d-8bb9-43eb-add7-4b304b1bae7d"
      },
      "outputs": [
        {
          "name": "stdout",
          "output_type": "stream",
          "text": [
            "['The', 'Department', 'Computer', 'Engineering', 'established', '1983', 'intent', 'provide', 'quality', 'education', 'young', 'aspirants', '.', 'The', 'department', 'pioneer', 'providing', 'education', 'Computer', 'Engineering', 'among', 'self', 'financed', 'institutes', 'Maharashtra', '.', 'A', 'team', '52', 'teaching', '10', 'technical', 'staff', 'members', 'leadership', 'Dr.', 'Geetanjali', 'V.', 'Kale', 'unanimously', 'harnesses', 'potential', 'aspects', 'take', 'department', 'greater', 'heights', '.', 'The', 'department', 'intake', '60', '1983', 'current', 'intake', 'undergraduate', 'program', '240', '.', 'The', 'department', 'received', 'approval', 'AICTE', 'conduct', 'UG', 'program', 'working', 'professionals', '60', 'intake', 'A.Y', '.', '2024-25', '.', 'The', 'Postgraduate', '(', 'PG', ')', 'program', 'Computer', 'Engineering', 'started', '2000', 'student', 'intake', '25', 'PG', 'Data', 'Science', 'intake', '24', '2020', '.', 'Subsequently', '2013', ',', 'intake', 'increased', '49', 'addition', 'second', 'division', '24', 'students', '.', 'In', '2020', ',', 'second', 'division', '24', 'students', 'converted', 'PG', 'Data', 'Science', '.', 'From', 'A.Y', '.', '2022-23', ',', 'Data', 'Science', 'Computer', 'Engineering', 'PG', 'programs', 'intake', '12', 'students', '.', 'The', 'department', 'Ph.D.', 'research', 'centre', ',', 'since', '2012', '.', 'All', 'UG', ',', 'PG', 'Ph.D.', 'programs', 'affiliated', 'Savitribai', 'Phule', 'Pune', 'University', '(', 'SPPU', ')', '.', 'Students', 'regularly', 'placed', 'top', 'MNCs', 'average', 'package', '13.5', 'LPA', '.', 'Our', 'students', 'pursuing', 'higher', 'education', 'top', 'universities', '(', 'Indian', 'well', 'Foreign', ')', '.', 'The', 'department', 'encourages', 'students', 'participate', 'various', 'National', 'International', 'level', 'competitions', ',', 'project', 'exhibitions', ',', 'hackathons', ',', 'sports', 'events', 'extra-curricular', 'activities', '.', 'Students', 'awards', 'various', 'competitions', 'including', 'significant', 'achievements', 'Smart', 'India', 'Hackathon', '.', 'Department', 'also', 'assisting', 'students', 'getting', 'internships', 'niche', 'companies', 'pre-placement', 'offers', '.']\n"
          ]
        }
      ],
      "source": [
        "#stop words removal p1\n",
        "filtered_word_tokens=[]\n",
        "for i in range(len(word_tokens)):\n",
        "    filter=[]\n",
        "    for word in word_tokens[i]:\n",
        "        if word not in stopwords:\n",
        "            filter.append(word)\n",
        "    filtered_word_tokens.append(filter)\n",
        "\n",
        "for i in range(len(filtered_word_tokens)):\n",
        "    print(filtered_word_tokens[i])"
      ]
    },
    {
      "cell_type": "code",
      "execution_count": null,
      "id": "44e4a118",
      "metadata": {
        "id": "44e4a118",
        "outputId": "fc4bd558-8646-4154-cbfc-ad9a382540e6"
      },
      "outputs": [
        {
          "name": "stdout",
          "output_type": "stream",
          "text": [
            "['The', 'department', 'Information', 'Technology', 'well', 'known', 'academic', 'excellence', ',', 'research', 'culture', 'delivered', '’', 'undergraduate', 'postgraduate', 'programs', '.', 'The', 'Bachelor', 'Engineering', '(', 'B.E', '.', ')', 'Programme', 'Information', 'Technology', 'started', 'academic', 'year', '2001-2002', 'intake', 'capacity', '60', 'currently', 'running', 'intake', 'capacity', '180', 'students', '.', 'The', 'Master', 'Engineering', '(', 'M.E', '.', ')', 'programme', 'started', 'academic', 'year', '2011-2012', 'intake', 'capacity', '18', 'students', '.', 'Department', 'Information', 'Technology', 'recognized', 'imparting', 'core', 'knowledge', ',', 'advanced', 'technological', 'trends', 'ethics', 'better', 'employability', '.', 'The', 'Department', 'offers', 'best', 'infrastructure', 'computing', 'facilities', 'stakeholders', '.', 'A', 'team', '39', 'Teaching', '08', 'Technical', 'Staff', 'members', 'leadership', 'Dr.', 'Archana', 'S.', 'Ghotkar', 'unanimously', 'harnesses', 'potential', 'aspects', 'take', 'department', 'greater', 'heights', '.']\n"
          ]
        }
      ],
      "source": [
        "#stop words removal p2\n",
        "filtered_word_tokens2=[]\n",
        "for i in range(len(word_tokens2)):\n",
        "    filter=[]\n",
        "    for word in word_tokens2[i]:\n",
        "        if word not in stopwords:\n",
        "            filter.append(word)\n",
        "    filtered_word_tokens2.append(filter)\n",
        "\n",
        "for i in range(len(filtered_word_tokens2)):\n",
        "    print(filtered_word_tokens2[i])"
      ]
    },
    {
      "cell_type": "code",
      "execution_count": null,
      "id": "1a913aa2",
      "metadata": {
        "id": "1a913aa2"
      },
      "outputs": [],
      "source": [
        "from nltk import pos_tag"
      ]
    },
    {
      "cell_type": "code",
      "execution_count": null,
      "id": "e5b1005f",
      "metadata": {
        "id": "e5b1005f",
        "outputId": "75f0abed-eaf5-4250-de4b-15b80ab9c604"
      },
      "outputs": [
        {
          "name": "stdout",
          "output_type": "stream",
          "text": [
            "[('The', 'DT'), ('Department', 'NNP'), ('Computer', 'NNP'), ('Engineering', 'NNP'), ('established', 'VBD'), ('1983', 'CD'), ('intent', 'NN'), ('provide', 'VBP'), ('quality', 'NN'), ('education', 'NN'), ('young', 'JJ'), ('aspirants', 'NNS'), ('.', '.'), ('The', 'DT'), ('department', 'NN'), ('pioneer', 'NN'), ('providing', 'VBG'), ('education', 'NN'), ('Computer', 'NNP'), ('Engineering', 'NNP'), ('among', 'IN'), ('self', 'NN'), ('financed', 'VBN'), ('institutes', 'NNS'), ('Maharashtra', 'NNP'), ('.', '.'), ('A', 'NNP'), ('team', 'NN'), ('52', 'CD'), ('teaching', 'VBG'), ('10', 'CD'), ('technical', 'JJ'), ('staff', 'NN'), ('members', 'NNS'), ('leadership', 'NN'), ('Dr.', 'NNP'), ('Geetanjali', 'NNP'), ('V.', 'NNP'), ('Kale', 'NNP'), ('unanimously', 'RB'), ('harnesses', 'VBZ'), ('potential', 'JJ'), ('aspects', 'NNS'), ('take', 'VBP'), ('department', 'NN'), ('greater', 'JJR'), ('heights', 'NNS'), ('.', '.'), ('The', 'DT'), ('department', 'NN'), ('intake', 'NN'), ('60', 'CD'), ('1983', 'CD'), ('current', 'JJ'), ('intake', 'JJ'), ('undergraduate', 'JJ'), ('program', 'NN'), ('240', 'CD'), ('.', '.'), ('The', 'DT'), ('department', 'NN'), ('received', 'VBD'), ('approval', 'NN'), ('AICTE', 'NNP'), ('conduct', 'NN'), ('UG', 'NNP'), ('program', 'NN'), ('working', 'VBG'), ('professionals', 'NNS'), ('60', 'CD'), ('intake', 'NN'), ('A.Y', 'NNP'), ('.', '.'), ('2024-25', 'JJ'), ('.', '.'), ('The', 'DT'), ('Postgraduate', 'NNP'), ('(', '('), ('PG', 'NNP'), (')', ')'), ('program', 'NN'), ('Computer', 'NNP'), ('Engineering', 'NNP'), ('started', 'VBD'), ('2000', 'CD'), ('student', 'NN'), ('intake', 'VB'), ('25', 'CD'), ('PG', 'NNP'), ('Data', 'NNP'), ('Science', 'NNP'), ('intake', 'NN'), ('24', 'CD'), ('2020', 'CD'), ('.', '.'), ('Subsequently', 'RB'), ('2013', 'CD'), (',', ','), ('intake', 'VBP'), ('increased', 'VBN'), ('49', 'CD'), ('addition', 'NN'), ('second', 'JJ'), ('division', 'NN'), ('24', 'CD'), ('students', 'NNS'), ('.', '.'), ('In', 'IN'), ('2020', 'CD'), (',', ','), ('second', 'JJ'), ('division', 'NN'), ('24', 'CD'), ('students', 'NNS'), ('converted', 'VBN'), ('PG', 'NNP'), ('Data', 'NNP'), ('Science', 'NNP'), ('.', '.'), ('From', 'IN'), ('A.Y', 'NNP'), ('.', '.'), ('2022-23', 'CD'), (',', ','), ('Data', 'NNP'), ('Science', 'NNP'), ('Computer', 'NNP'), ('Engineering', 'NNP'), ('PG', 'NNP'), ('programs', 'NNS'), ('intake', 'VBP'), ('12', 'CD'), ('students', 'NNS'), ('.', '.'), ('The', 'DT'), ('department', 'NN'), ('Ph.D.', 'NNP'), ('research', 'NN'), ('centre', 'NN'), (',', ','), ('since', 'IN'), ('2012', 'CD'), ('.', '.'), ('All', 'DT'), ('UG', 'NNP'), (',', ','), ('PG', 'NNP'), ('Ph.D.', 'NNP'), ('programs', 'NNS'), ('affiliated', 'VBD'), ('Savitribai', 'NNP'), ('Phule', 'NNP'), ('Pune', 'NNP'), ('University', 'NNP'), ('(', '('), ('SPPU', 'NNP'), (')', ')'), ('.', '.'), ('Students', 'NNS'), ('regularly', 'RB'), ('placed', 'VBD'), ('top', 'JJ'), ('MNCs', 'NNP'), ('average', 'JJ'), ('package', 'NN'), ('13.5', 'CD'), ('LPA', 'NNP'), ('.', '.'), ('Our', 'PRP$'), ('students', 'NNS'), ('pursuing', 'VBG'), ('higher', 'JJR'), ('education', 'NN'), ('top', 'JJ'), ('universities', 'NNS'), ('(', '('), ('Indian', 'JJ'), ('well', 'RB'), ('Foreign', 'NNP'), (')', ')'), ('.', '.'), ('The', 'DT'), ('department', 'NN'), ('encourages', 'VBZ'), ('students', 'NNS'), ('participate', 'VBP'), ('various', 'JJ'), ('National', 'NNP'), ('International', 'NNP'), ('level', 'NN'), ('competitions', 'NNS'), (',', ','), ('project', 'NN'), ('exhibitions', 'NNS'), (',', ','), ('hackathons', 'NNS'), (',', ','), ('sports', 'NNS'), ('events', 'NNS'), ('extra-curricular', 'JJ'), ('activities', 'NNS'), ('.', '.'), ('Students', 'NNS'), ('awards', 'VBP'), ('various', 'JJ'), ('competitions', 'NNS'), ('including', 'VBG'), ('significant', 'JJ'), ('achievements', 'NNS'), ('Smart', 'NNP'), ('India', 'NNP'), ('Hackathon', 'NNP'), ('.', '.'), ('Department', 'NNP'), ('also', 'RB'), ('assisting', 'VBG'), ('students', 'NNS'), ('getting', 'VBG'), ('internships', 'NNS'), ('niche', 'NN'), ('companies', 'NNS'), ('pre-placement', 'JJ'), ('offers', 'NNS'), ('.', '.')]\n"
          ]
        }
      ],
      "source": [
        "#POS tagging  p1\n",
        "pos_tags = pos_tag(filtered_word_tokens)\n",
        "print(pos_tags)"
      ]
    },
    {
      "cell_type": "code",
      "execution_count": null,
      "id": "f6d2d022",
      "metadata": {
        "id": "f6d2d022",
        "outputId": "5a80e323-d4b1-46fa-9c99-13071f7c37d8"
      },
      "outputs": [
        {
          "name": "stdout",
          "output_type": "stream",
          "text": [
            "[('The', 'DT'), ('department', 'NN'), ('Information', 'NNP'), ('Technology', 'NNP'), ('well', 'RB'), ('known', 'VBN'), ('academic', 'JJ'), ('excellence', 'NN'), (',', ','), ('research', 'NN'), ('culture', 'NN'), ('delivered', 'VBD'), ('’', 'JJ'), ('undergraduate', 'JJ'), ('postgraduate', 'NN'), ('programs', 'NNS'), ('.', '.'), ('The', 'DT'), ('Bachelor', 'NNP'), ('Engineering', 'NNP'), ('(', '('), ('B.E', 'NNP'), ('.', '.'), (')', ')'), ('Programme', 'NNPS'), ('Information', 'NNP'), ('Technology', 'NNP'), ('started', 'VBD'), ('academic', 'JJ'), ('year', 'NN'), ('2001-2002', 'JJ'), ('intake', 'NN'), ('capacity', 'NN'), ('60', 'CD'), ('currently', 'RB'), ('running', 'VBG'), ('intake', 'VB'), ('capacity', 'NN'), ('180', 'CD'), ('students', 'NNS'), ('.', '.'), ('The', 'DT'), ('Master', 'NNP'), ('Engineering', 'NNP'), ('(', '('), ('M.E', 'NNP'), ('.', '.'), (')', ')'), ('programme', 'NN'), ('started', 'VBD'), ('academic', 'JJ'), ('year', 'NN'), ('2011-2012', 'JJ'), ('intake', 'NN'), ('capacity', 'NN'), ('18', 'CD'), ('students', 'NNS'), ('.', '.'), ('Department', 'NNP'), ('Information', 'NNP'), ('Technology', 'NNP'), ('recognized', 'VBD'), ('imparting', 'VBG'), ('core', 'NN'), ('knowledge', 'NN'), (',', ','), ('advanced', 'VBD'), ('technological', 'JJ'), ('trends', 'NNS'), ('ethics', 'NNS'), ('better', 'JJR'), ('employability', 'NN'), ('.', '.'), ('The', 'DT'), ('Department', 'NNP'), ('offers', 'VBZ'), ('best', 'JJS'), ('infrastructure', 'NN'), ('computing', 'VBG'), ('facilities', 'NNS'), ('stakeholders', 'NNS'), ('.', '.'), ('A', 'DT'), ('team', 'NN'), ('39', 'CD'), ('Teaching', 'VBG'), ('08', 'CD'), ('Technical', 'JJ'), ('Staff', 'NNP'), ('members', 'NNS'), ('leadership', 'NN'), ('Dr.', 'NNP'), ('Archana', 'NNP'), ('S.', 'NNP'), ('Ghotkar', 'NNP'), ('unanimously', 'RB'), ('harnesses', 'VBZ'), ('potential', 'JJ'), ('aspects', 'NNS'), ('take', 'VBP'), ('department', 'NN'), ('greater', 'JJR'), ('heights', 'NNS'), ('.', '.')]\n"
          ]
        }
      ],
      "source": [
        "#POS tagging  p2\n",
        "pos_tags = pos_tag(filtered_word_tokens2)\n",
        "print(pos_tags)"
      ]
    },
    {
      "cell_type": "code",
      "execution_count": null,
      "id": "67755057",
      "metadata": {
        "id": "67755057"
      },
      "outputs": [],
      "source": [
        "from nltk.stem import PorterStemmer"
      ]
    },
    {
      "cell_type": "code",
      "execution_count": null,
      "id": "128df5b3",
      "metadata": {
        "id": "128df5b3",
        "outputId": "7d69eff4-9e0d-4cd1-c1a9-0ded25321860"
      },
      "outputs": [
        {
          "name": "stdout",
          "output_type": "stream",
          "text": [
            "['the', 'depart', 'comput', 'engin', 'establish', '1983', 'intent', 'provid', 'qualiti', 'educ', 'young', 'aspir', '.', 'the', 'depart', 'pioneer', 'provid', 'educ', 'comput', 'engin', 'among', 'self', 'financ', 'institut', 'maharashtra', '.', 'a', 'team', '52', 'teach', '10', 'technic', 'staff', 'member', 'leadership', 'dr.', 'geetanjali', 'v.', 'kale', 'unanim', 'har', 'potenti', 'aspect', 'take', 'depart', 'greater', 'height', '.', 'the', 'depart', 'intak', '60', '1983', 'current', 'intak', 'undergradu', 'program', '240', '.', 'the', 'depart', 'receiv', 'approv', 'aict', 'conduct', 'ug', 'program', 'work', 'profession', '60', 'intak', 'a.i', '.', '2024-25', '.', 'the', 'postgradu', '(', 'pg', ')', 'program', 'comput', 'engin', 'start', '2000', 'student', 'intak', '25', 'pg', 'data', 'scienc', 'intak', '24', '2020', '.', 'subsequ', '2013', ',', 'intak', 'increas', '49', 'addit', 'second', 'divis', '24', 'student', '.', 'in', '2020', ',', 'second', 'divis', '24', 'student', 'convert', 'pg', 'data', 'scienc', '.', 'from', 'a.i', '.', '2022-23', ',', 'data', 'scienc', 'comput', 'engin', 'pg', 'program', 'intak', '12', 'student', '.', 'the', 'depart', 'ph.d.', 'research', 'centr', ',', 'sinc', '2012', '.', 'all', 'ug', ',', 'pg', 'ph.d.', 'program', 'affili', 'savitribai', 'phule', 'pune', 'univers', '(', 'sppu', ')', '.', 'student', 'regularli', 'place', 'top', 'mnc', 'averag', 'packag', '13.5', 'lpa', '.', 'our', 'student', 'pursu', 'higher', 'educ', 'top', 'univers', '(', 'indian', 'well', 'foreign', ')', '.', 'the', 'depart', 'encourag', 'student', 'particip', 'variou', 'nation', 'intern', 'level', 'competit', ',', 'project', 'exhibit', ',', 'hackathon', ',', 'sport', 'event', 'extra-curricular', 'activ', '.', 'student', 'award', 'variou', 'competit', 'includ', 'signific', 'achiev', 'smart', 'india', 'hackathon', '.', 'depart', 'also', 'assist', 'student', 'get', 'internship', 'nich', 'compani', 'pre-plac', 'offer', '.']\n"
          ]
        }
      ],
      "source": [
        "#Stemming p1\n",
        "ps = PorterStemmer()\n",
        "stemmed_words=[]\n",
        "for word in filtered_word_tokens:\n",
        "    stemmed_words.append(ps.stem(word))\n",
        "print(stemmed_words)"
      ]
    },
    {
      "cell_type": "code",
      "execution_count": null,
      "id": "efdbf18c",
      "metadata": {
        "id": "efdbf18c",
        "outputId": "23fe6568-8251-42ef-a6e9-0023fa065b3e"
      },
      "outputs": [
        {
          "name": "stdout",
          "output_type": "stream",
          "text": [
            "['the', 'depart', 'inform', 'technolog', 'well', 'known', 'academ', 'excel', ',', 'research', 'cultur', 'deliv', '’', 'undergradu', 'postgradu', 'program', '.', 'the', 'bachelor', 'engin', '(', 'b.e', '.', ')', 'programm', 'inform', 'technolog', 'start', 'academ', 'year', '2001-2002', 'intak', 'capac', '60', 'current', 'run', 'intak', 'capac', '180', 'student', '.', 'the', 'master', 'engin', '(', 'm.e', '.', ')', 'programm', 'start', 'academ', 'year', '2011-2012', 'intak', 'capac', '18', 'student', '.', 'depart', 'inform', 'technolog', 'recogn', 'impart', 'core', 'knowledg', ',', 'advanc', 'technolog', 'trend', 'ethic', 'better', 'employ', '.', 'the', 'depart', 'offer', 'best', 'infrastructur', 'comput', 'facil', 'stakehold', '.', 'a', 'team', '39', 'teach', '08', 'technic', 'staff', 'member', 'leadership', 'dr.', 'archana', 's.', 'ghotkar', 'unanim', 'har', 'potenti', 'aspect', 'take', 'depart', 'greater', 'height', '.']\n"
          ]
        }
      ],
      "source": [
        "#Stemming p2\n",
        "stemmed_words2=[]\n",
        "for word in filtered_word_tokens2:\n",
        "    stemmed_words2.append(ps.stem(word))\n",
        "print(stemmed_words2)"
      ]
    },
    {
      "cell_type": "code",
      "execution_count": null,
      "id": "dfea0d68",
      "metadata": {
        "id": "dfea0d68"
      },
      "outputs": [],
      "source": [
        "from nltk.stem import WordNetLemmatizer"
      ]
    },
    {
      "cell_type": "code",
      "execution_count": null,
      "id": "2cee9f3c",
      "metadata": {
        "id": "2cee9f3c",
        "outputId": "0fa69488-d3da-487c-f407-e9f4bc8e8983"
      },
      "outputs": [
        {
          "name": "stdout",
          "output_type": "stream",
          "text": [
            "['The', 'Department', 'Computer', 'Engineering', 'established', '1983', 'intent', 'provide', 'quality', 'education', 'young', 'aspirant', '.', 'The', 'department', 'pioneer', 'providing', 'education', 'Computer', 'Engineering', 'among', 'self', 'financed', 'institute', 'Maharashtra', '.', 'A', 'team', '52', 'teaching', '10', 'technical', 'staff', 'member', 'leadership', 'Dr.', 'Geetanjali', 'V.', 'Kale', 'unanimously', 'harness', 'potential', 'aspect', 'take', 'department', 'greater', 'height', '.', 'The', 'department', 'intake', '60', '1983', 'current', 'intake', 'undergraduate', 'program', '240', '.', 'The', 'department', 'received', 'approval', 'AICTE', 'conduct', 'UG', 'program', 'working', 'professional', '60', 'intake', 'A.Y', '.', '2024-25', '.', 'The', 'Postgraduate', '(', 'PG', ')', 'program', 'Computer', 'Engineering', 'started', '2000', 'student', 'intake', '25', 'PG', 'Data', 'Science', 'intake', '24', '2020', '.', 'Subsequently', '2013', ',', 'intake', 'increased', '49', 'addition', 'second', 'division', '24', 'student', '.', 'In', '2020', ',', 'second', 'division', '24', 'student', 'converted', 'PG', 'Data', 'Science', '.', 'From', 'A.Y', '.', '2022-23', ',', 'Data', 'Science', 'Computer', 'Engineering', 'PG', 'program', 'intake', '12', 'student', '.', 'The', 'department', 'Ph.D.', 'research', 'centre', ',', 'since', '2012', '.', 'All', 'UG', ',', 'PG', 'Ph.D.', 'program', 'affiliated', 'Savitribai', 'Phule', 'Pune', 'University', '(', 'SPPU', ')', '.', 'Students', 'regularly', 'placed', 'top', 'MNCs', 'average', 'package', '13.5', 'LPA', '.', 'Our', 'student', 'pursuing', 'higher', 'education', 'top', 'university', '(', 'Indian', 'well', 'Foreign', ')', '.', 'The', 'department', 'encourages', 'student', 'participate', 'various', 'National', 'International', 'level', 'competition', ',', 'project', 'exhibition', ',', 'hackathons', ',', 'sport', 'event', 'extra-curricular', 'activity', '.', 'Students', 'award', 'various', 'competition', 'including', 'significant', 'achievement', 'Smart', 'India', 'Hackathon', '.', 'Department', 'also', 'assisting', 'student', 'getting', 'internship', 'niche', 'company', 'pre-placement', 'offer', '.']\n"
          ]
        }
      ],
      "source": [
        "#Lemmatization  p1\n",
        "lemmatizer = WordNetLemmatizer()\n",
        "lemmatized_words=[]\n",
        "for word in filtered_word_tokens:\n",
        "    lemmatized_words.append(lemmatizer.lemmatize(word))\n",
        "print(lemmatized_words)"
      ]
    },
    {
      "cell_type": "code",
      "execution_count": null,
      "id": "130ab343",
      "metadata": {
        "id": "130ab343",
        "outputId": "6baa0078-e504-4062-e216-8ee8dd7bf5d1"
      },
      "outputs": [
        {
          "name": "stdout",
          "output_type": "stream",
          "text": [
            "['The', 'department', 'Information', 'Technology', 'well', 'known', 'academic', 'excellence', ',', 'research', 'culture', 'delivered', '’', 'undergraduate', 'postgraduate', 'program', '.', 'The', 'Bachelor', 'Engineering', '(', 'B.E', '.', ')', 'Programme', 'Information', 'Technology', 'started', 'academic', 'year', '2001-2002', 'intake', 'capacity', '60', 'currently', 'running', 'intake', 'capacity', '180', 'student', '.', 'The', 'Master', 'Engineering', '(', 'M.E', '.', ')', 'programme', 'started', 'academic', 'year', '2011-2012', 'intake', 'capacity', '18', 'student', '.', 'Department', 'Information', 'Technology', 'recognized', 'imparting', 'core', 'knowledge', ',', 'advanced', 'technological', 'trend', 'ethic', 'better', 'employability', '.', 'The', 'Department', 'offer', 'best', 'infrastructure', 'computing', 'facility', 'stakeholder', '.', 'A', 'team', '39', 'Teaching', '08', 'Technical', 'Staff', 'member', 'leadership', 'Dr.', 'Archana', 'S.', 'Ghotkar', 'unanimously', 'harness', 'potential', 'aspect', 'take', 'department', 'greater', 'height', '.']\n"
          ]
        }
      ],
      "source": [
        "#Lemmatization  p2\n",
        "lemmatized_words2=[]\n",
        "for word in filtered_word_tokens2:\n",
        "    lemmatized_words2.append(lemmatizer.lemmatize(word))\n",
        "print(lemmatized_words2)"
      ]
    },
    {
      "cell_type": "code",
      "execution_count": null,
      "id": "5e4345e6",
      "metadata": {
        "id": "5e4345e6",
        "outputId": "7d775c6e-32fb-46ec-be73-37d304981145"
      },
      "outputs": [
        {
          "name": "stdout",
          "output_type": "stream",
          "text": [
            "0.0\n",
            "5.4116460518550396\n"
          ]
        }
      ],
      "source": [
        "import math\n",
        "\n",
        "def getTF(word, doc):\n",
        "    print( doc.count(word)/len(doc))\n",
        "\n",
        "def getIDF(word, docs):\n",
        "    count=0\n",
        "    for doc in docs:\n",
        "        if word in doc:\n",
        "            count+=1\n",
        "    print(math.log(len(docs)/count))\n",
        "\n",
        "getTF('institute', filtered_word_tokens[0])\n",
        "getIDF('institute', filtered_word_tokens)"
      ]
    },
    {
      "cell_type": "code",
      "execution_count": null,
      "id": "86d73b59",
      "metadata": {
        "id": "86d73b59"
      },
      "outputs": [],
      "source": [
        "#Analysis\n",
        "\n",
        "# NLTK (Natural Language Toolkit).\n",
        "\n",
        "# 1. Tokenization\n",
        "# The text was successfully split into words and sentences.\n",
        "\n",
        "# 2.POS (Parts of speech) tagging\n",
        "# Words were correctly classified into nouns, verbs, adjectives, etc.\n",
        "# DT = Determiner (e.g  The, A)\n",
        "# JJ = Adjective (e.g  quick, lazy)\n",
        "# NN = Noun (e.g  fox, dog)\n",
        "# VBZ = Verb (e.g  jumps)\n",
        "# IN = Preposition (e.g  over)\n",
        "\n",
        "# 3.Stop word removal\n",
        "# Common words like \"is\", \"the\", \"and\" were successfully removed.\n",
        "\n",
        "# 4.Stemming\n",
        "# Words were reduced to their root form (e.g  running -> run).\n",
        "# Not really good for all words as it cuts word to its base form (e.g  files -> fli)\n",
        "\n",
        "# 5.Lemmatization\n",
        "# Better alternative foe stemming as it converts word to meaningful format\n",
        "# Words were reduced to their dictionary form (e.g  flies -> fly)\n",
        "\n"
      ]
    }
  ],
  "metadata": {
    "kernelspec": {
      "display_name": "Python 3 (ipykernel)",
      "language": "python",
      "name": "python3"
    },
    "language_info": {
      "codemirror_mode": {
        "name": "ipython",
        "version": 3
      },
      "file_extension": ".py",
      "mimetype": "text/x-python",
      "name": "python",
      "nbconvert_exporter": "python",
      "pygments_lexer": "ipython3",
      "version": "3.8.10"
    },
    "colab": {
      "provenance": []
    }
  },
  "nbformat": 4,
  "nbformat_minor": 5
}